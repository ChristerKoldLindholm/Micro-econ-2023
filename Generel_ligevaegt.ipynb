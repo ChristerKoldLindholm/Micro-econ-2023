{
 "cells": [
  {
   "attachments": {},
   "cell_type": "markdown",
   "id": "04d3f821",
   "metadata": {},
   "source": [
    "Skriv dit eksamensnummer her: 27"
   ]
  },
  {
   "cell_type": "code",
   "execution_count": 56,
   "id": "0a6edebf",
   "metadata": {},
   "outputs": [],
   "source": [
    "# Importer biblioteker \n",
    "import sympy as sp \n",
    "import numpy as np\n",
    "import matplotlib.pyplot as plt"
   ]
  },
  {
   "attachments": {},
   "cell_type": "markdown",
   "id": "f94229d3",
   "metadata": {},
   "source": [
    "I en model er der to agenter, $1$ og $2$. De har præferencer\n",
    "med nyttefunktion: \n",
    "\n",
    "\\begin{equation*}\n",
    "U_{i}(c_{i},f_{i})=c_{i}-\\frac{\\eta}{\\eta+1}(1-f_{i})^{\\frac{\\eta+1}{\\eta}},\n",
    "\\end{equation*}\n",
    "hvor $i=1,2,$ $c_{i}$ er type $i$'s forbrug af et forbrugsgode\n",
    "og $f_{i}$ er forbrug af fritid.  $\\eta>0$ er en parameter. \n",
    "Der er en industri der producerer\n",
    "competitivt med produktionsfunktionen: \n",
    "\\begin{equation*}\n",
    "y=\\left[(A_{1}L_{1})^{\\frac{\\sigma-1}{\\sigma}}+(A_{2}L_{2})^{\\frac{\\sigma-1}{\\sigma}}\\right]^{\\frac{\\sigma}{\\sigma-1}},\n",
    "\\end{equation*}\n",
    "hvor $L_{i}$ er brug af arbejdstid af type $i$. $A_{i}$ er en teknologi parameter for hvor produktive hver af de to typer arbejdere er. Denne produktionsfunktion kaldes en \"Constant Elasticity of Substitution\" produktionsfunktion. $\\sigma>0$ og $\\sigma\\ne1$\n"
   ]
  },
  {
   "attachments": {},
   "cell_type": "markdown",
   "id": "f57695ab",
   "metadata": {},
   "source": [
    "### Opgave 6.1)\n",
    "- Argumenter for at disse antagelser giver profit lig med nul"
   ]
  },
  {
   "attachments": {},
   "cell_type": "markdown",
   "id": "61785a8b",
   "metadata": {},
   "source": [
    "### Svar:\n",
    "\n",
    "For at opnå profit lig nul, skal markedet komme i ligevægt. \n",
    "\n",
    "For forbrugerne ser vi, at $\\eta>0$, så potensen $\\frac{\\eta+1}{\\eta}$ altid er $>1$. Hvis $\\eta$ går mod $\\infty$, så går elasticiteten mod 1, dvs. perfekt subtitution mellem fritid og forbrug.\n",
    "\n",
    "For virksomhederne gælder, at hvis $\\sigma$ går mod $\\infty$, så går elasticiteten også mod 1. Altså kan producenterne også substituerer arbejdskraft med teknologi. \n",
    "\n",
    "Markedet vil under kompetitive forhold finde en ligevægtspris, fordi virksomhederne er i stand til at substituere teknologi for arbejdskraft, hvis forbrugerne vælger at øge deres fritid og sænke deres forbrug. "
   ]
  },
  {
   "attachments": {},
   "cell_type": "markdown",
   "id": "8cfc2a26",
   "metadata": {},
   "source": [
    "### Opgave 6.2)\n",
    "- Løs forbruger $i$'s problem for givne $\\eta$, priser $p$, løn $w_i$ og den profit $\\pi_i=0$ analytisk (dvs. find optimalt $c_i$ og $f_i$). Lad forbrugerens samlede tid vaere 1 dvs. arbejdstid plus fritid = 1\n",
    "- Skriv løsningen ind i nedenstående funktion, der tager $\\eta$, priser, løn som input og returnerer optimalt forbrugsvalg og fritid for forbruger $i$"
   ]
  },
  {
   "attachments": {},
   "cell_type": "markdown",
   "id": "7d4d297f",
   "metadata": {},
   "source": [
    "- Skriv den algebraiske løsning her\n",
    "\n",
    "Forbrugerens problem er \n",
    "\n",
    "$\n",
    "\\underset{c_i,f_i}{\\text{max}} \\hspace{0.5 em} U_i(c_i,f_i) \\hspace{0.5 em} \\text{u.b.} \\hspace{0.5 em} pc_i=w_i(1-f_i)\n",
    "$\n",
    "\n",
    "Det giver os Lagrange-ligningen\n",
    "\n",
    "$\n",
    "L=c_i-\\frac{\\eta}{\\eta +1}(1-f_i)^{\\frac{\\eta+1}{\\eta}}-\\lambda (pc_i-w_i(1-f_i))\n",
    "$\n",
    "\n",
    "Problemet løses i pythonkoden nedenfor. Løsningerne er optimalt forbrug \n",
    "\n",
    "$\n",
    "c_i^*=w_i\\frac{\\left(\\frac{p}{w_i}\\right)^{-\\eta}}{p}\n",
    "$\n",
    "\n",
    "og optimal fritid\n",
    "\n",
    "$\n",
    "f_i^*=1-\\left(\\frac{p}{w_i}\\right)^{-\\eta}\n",
    "$"
   ]
  },
  {
   "cell_type": "code",
   "execution_count": 57,
   "id": "bf7ed561",
   "metadata": {},
   "outputs": [],
   "source": [
    "# Løsning af forbrugerens problem \n",
    "def løsning_forbrugeren(p, w, eta):\n",
    "    '''Løs forbrugerens problem for forbruger i\n",
    "    \n",
    "    Inputs\n",
    "    ---------\n",
    "    p:  Pris for forbrugsgode\n",
    "    w:  Løn for forbruger i\n",
    "    eta : parameter i nyttefunktionen\n",
    "    \n",
    "    Returnerer\n",
    "    ----------\n",
    "    c: optimalt forbrug\n",
    "    f: Optimal fritid\n",
    "    '''\n",
    "    \n",
    "    # Definer variable som symboler \n",
    "    c_i, eta_i, f_i, p_i, w_i, lamb, l_i = sp.symbols('c_i, \\u03B7, \\\n",
    "        f_i, p, w, \\u03BB, l', real=True)\n",
    "    # Nyttefunktionen\n",
    "    U =  c_i - eta_i/(eta_i+1) * (1-f_i)**((eta_i+1)/eta_i)\n",
    "    U = c_i - ( (eta_i*(1-f_i)**((eta_i+1)/eta_i))/(eta_i+1) )\n",
    "    # Budgetbegrænsningen\n",
    "    budget = p_i*c_i - w_i*(1-f_i)\n",
    "    # Lagrangian \n",
    "    L = U - lamb * budget \n",
    "    # Afledte\n",
    "    partial_c = L.diff(c_i)\n",
    "    partial_l = L.diff(f_i)\n",
    "    partial_lamb = L.diff(lamb)\n",
    "\n",
    "    # Løsninger \n",
    "    eq_list = [partial_c, partial_l, partial_lamb]\n",
    "    solutions = sp.solve(eq_list, (c_i, f_i, lamb))\n",
    "    opt_c = solutions[0][0]\n",
    "    opt_f = solutions[0][1]\n",
    "\n",
    "    # Numerisk evaluering \n",
    "    opt_c_eval = opt_c.subs([(p_i, p), (w_i, w), (eta_i, eta)])\n",
    "    opt_f_eval = opt_f.subs([(p_i, p), (w_i, w), (eta_i, eta)])\n",
    "\n",
    "    c = float(opt_c_eval)\n",
    "    f = float(opt_f_eval)\n",
    "    \n",
    "    return c, f"
   ]
  },
  {
   "attachments": {},
   "cell_type": "markdown",
   "id": "8f8eca60",
   "metadata": {},
   "source": [
    "*Hint: Hvis du eksekverer følgende celle, skal den printe ``c = 0.125`` og ``f = 0.5``*"
   ]
  },
  {
   "cell_type": "code",
   "execution_count": 58,
   "id": "c80e1ae4",
   "metadata": {},
   "outputs": [
    {
     "name": "stdout",
     "output_type": "stream",
     "text": [
      "c = 0.125\n",
      "f = 0.5\n"
     ]
    }
   ],
   "source": [
    "p = 1\n",
    "w = 0.25\n",
    "eta = 0.5\n",
    "c, f = løsning_forbrugeren(p, w, eta)\n",
    "print(f'c = {np.round(c,3)}')\n",
    "print(f'f = {np.round(f,3)}')"
   ]
  },
  {
   "attachments": {},
   "cell_type": "markdown",
   "id": "43a0a8a9",
   "metadata": {},
   "source": [
    "### Opgave 6.3)\n",
    "- Løs virksomhedens enhedsomkostningsproblem. Dvs. minimer virksomhedens omkostninger for given $w_1$, $w_2$, $A_1$, $A_2$ når den producerer en enhed. Vis at dette giver omkostninger på: \n",
    "\\begin{equation*}\n",
    "C(w_{1},w_{2})=(\\left(w_{1}/A_{1}\\right)^{1-\\sigma}+\\left(w_{2}/A_{2}\\right)^{1-\\sigma})^{\\frac{1}{1-\\sigma}}\n",
    "\\end{equation*}\n",
    "og brug af arbejdskraft af hver af de to typer af\n",
    "\\begin{equation*}\n",
    "L_1(w_{1},w_{2})=\\frac{w_{1}^{-\\sigma}A_{1}^{\\sigma-1}}{(\\left(w_{1}/A_{1}\\right)^{1-\\sigma}+\\left(w_{2}/A_{2}\\right)^{1-\\sigma})^{\\frac{\\sigma}{\\sigma-1}}},\n",
    "\\end{equation*}\n",
    "\n",
    "\\begin{equation*}\n",
    "L_2(w_{1},w_{2})=\\frac{w_{2}^{-\\sigma}A_{2}^{\\sigma-1}}{(\\left(w_{1}/A_{1}\\right)^{1-\\sigma}+\\left(w_{2}/A_{2}\\right)^{1-\\sigma})^{\\frac{\\sigma}{\\sigma-1}}}\n",
    "\\end{equation*}\n",
    "\n",
    "- Skriv en funktion forneden der tager $A_1$, $A_2$, $w_1$, $w_2$ og $y$ og $\\sigma$ for given og giver ENHEDSomkostninger samt TOTAL efterspoergsel efter $L_1$ og $L_2$"
   ]
  },
  {
   "attachments": {},
   "cell_type": "markdown",
   "id": "1ac48be9",
   "metadata": {},
   "source": [
    "- Løs det algebraiske problem her (Du kan godt løse resten af problemet uden at løse det algebraiske problem korrekt)\n",
    "\n",
    "### Svar:\n",
    "\n",
    "Man kan udlede de optimale input $L_1$ og $L_2$ ved at løse problemet\n",
    "\n",
    "$w_1L_1+w_2L_2 \\hspace{.7 em} \\text{u.b.} \\hspace{.7em} y(L_1,L_2)$\n",
    "\n",
    "Det giver Lagrange-ligning\n",
    "\n",
    "$ L = w_1L_1+w_2L_2 + \\lambda y - \\lambda [ (A_1L_1)^{(\\sigma-1/\\sigma)} + (A_2L_2)^{(\\sigma-1/\\sigma)} ]^{(\\sigma/(\\sigma-1))} $"
   ]
  },
  {
   "cell_type": "code",
   "execution_count": 59,
   "id": "76cb6435",
   "metadata": {},
   "outputs": [],
   "source": [
    "# Løsning af virksomhedens problem.\n",
    "\n",
    "def løsning_virksomheden(A_1, A_2,w_1,w_2,y,sigma):\n",
    "    '''Løs virksomhedens problem for virksomhed i\n",
    "    \n",
    "    Parametre\n",
    "    ---------\n",
    "    A_i: produktivitet for agent i\n",
    "    w_i: løn for agent i\n",
    "    y  : Total produktion\n",
    "    sigma: parameter\n",
    "    \n",
    "    Returnerer\n",
    "    ----------\n",
    "    cost:  Enhedsomkostning\n",
    "    L_1 :  Efterspørgsel efter type 1\n",
    "    L_2 :  Efterspørgsel efter type 2\n",
    "    '''\n",
    "    # Parametre \n",
    "    w1, w2, A1, A2, s, Y = sp.symbols('w_1, w_2, A_1, A_2, \\u03c3, y')\n",
    "\n",
    "    # Minima \n",
    "    min_cost = ( (w1/A1)**(1-s) + (w2/A2)**(1-s) )**(1/(1-s) )\n",
    "\n",
    "    min_L_1 = (w_1**(-s)*A_1**(s-1))\\\n",
    "        /(((w1/A1)**(1-s) + (w2/A2)**(1-s))**(s/(s-1)))\n",
    "    \n",
    "    min_L_2 = (w2**(-s)*A2**(s-1))\\\n",
    "        /(((w1/A1)**(1-s) + (w2/A2)**(1-s))**(s/(s-1)))\n",
    "\n",
    "    # Enheds minima \n",
    "    enheds_min_L_1 = min_L_1 * Y \n",
    "    enheds_min_L_2 = min_L_2 * Y \n",
    "\n",
    "    # Numerisk evaluering \n",
    "    subs_list = [(A1, A_1),(A2, A_2), (w1, w_1), (w2, w_2), (s, sigma), (Y, y)]\n",
    "    length = len(subs_list)\n",
    "    \n",
    "    cost = float(min_cost.subs(subs_list))\n",
    "    L_1 = float(enheds_min_L_1.subs(subs_list))\n",
    "    L_2 = float(enheds_min_L_2.subs(subs_list))\n",
    "    \n",
    "    return cost, L_1, L_2"
   ]
  },
  {
   "attachments": {},
   "cell_type": "markdown",
   "id": "436eac27",
   "metadata": {},
   "source": [
    "*Hint: Hvis du eksekverer følgende celle, skal den printe \n",
    "c_1 = 0.5\n",
    "L_1 = 0.25\n",
    "L_2 = 0.166"
   ]
  },
  {
   "cell_type": "code",
   "execution_count": 60,
   "id": "f658afa8",
   "metadata": {},
   "outputs": [
    {
     "name": "stdout",
     "output_type": "stream",
     "text": [
      "c_1 = 0.5\n",
      "L_1 = 0.25\n",
      "L_2 = 0.16666666666666666\n"
     ]
    }
   ],
   "source": [
    "A_1 = 2\n",
    "A_2 = 3\n",
    "w_1 = 2\n",
    "w_2 = 3\n",
    "y   = 2 \n",
    "sigma = 2\n",
    "\n",
    "c_1, L_1, L_2 = løsning_virksomheden(A_1, A_2,w_1,w_2,y,sigma)\n",
    "\n",
    "print(f'c_1 = {c_1}')\n",
    "print(f'L_1 = {L_1}')\n",
    "print(f'L_2 = {L_2}')"
   ]
  },
  {
   "attachments": {},
   "cell_type": "markdown",
   "id": "e1406a7a",
   "metadata": {},
   "source": [
    "### Opgave 6.4)\n",
    "- Lav en figur for isokvanten af produktionsfunktionen. Gør dette for $A_1=A_2=1$ og $\\sigma = 0.01$ og produktion på 1. Lav en tilsvarende figur for $\\sigma = 20$. Kommenter paa forskellen mellem de to dog. Fortolk.\n"
   ]
  },
  {
   "attachments": {},
   "cell_type": "markdown",
   "id": "11fd6494",
   "metadata": {},
   "source": [
    "### Svar: \n",
    "\n",
    "Isokvanterne tydeliggør, hvor hvilke kombinationer af de to typer arbejdskraft som input, der giver samme produktionsoutput. \n",
    "\n",
    "Vi observerer, at med en meget $\\sigma = 0.01$, er der næsten ingen mulighed for substitution. De to typer arbejdskraft komplementerer hinanden perfekt, og virksomheden kan højst producere ud fra det laveste output.\n",
    "\n",
    "I plot 2 med en høj $\\sigma=20$, har vi perfekte substitutter. En arbejder af den ene type kan erstatte 1 arbejder af den anden, uden at produktionsniveauet ændres.\n",
    "\n",
    "En høj sigma giver altså en høj substitutionselasticitet for virksomheden."
   ]
  },
  {
   "cell_type": "code",
   "execution_count": 61,
   "id": "13c71565",
   "metadata": {},
   "outputs": [
    {
     "data": {
      "image/png": "[encoded data removed]",
      "text/plain": [
       "<Figure size 600x500 with 1 Axes>"
      ]
     },
     "metadata": {},
     "output_type": "display_data"
    },
    {
     "data": {
      "image/png": "[encoded data removed]",
      "text/plain": [
       "<Figure size 600x500 with 1 Axes>"
      ]
     },
     "metadata": {},
     "output_type": "display_data"
    }
   ],
   "source": [
    "# Isokvant \n",
    "\n",
    "# Parametre \n",
    "A1, A2, sigma, sigma2, y = 1, 1, 0.01, 20, 1\n",
    "\n",
    "# Funktion til isokvanter\n",
    "def isokvant(A1, A2, s, prd, L1, L2):\n",
    "    # Parametre og produktionsfunktionen \n",
    "    prod = ( (A1*L1)**((s-1)/s) + (A2*L2)**((s-1)/s) )**(s/(s-1))\n",
    "    return prod\n",
    "\n",
    "# isokvant(A1, A2, sigma, y, 1)\n",
    "isokvant(A1, A2, sigma2, y, 1, 1)\n",
    "\n",
    "def iso_plot(A1, A2, sigma, y):\n",
    "    \n",
    "    fig, ax = plt.subplots(figsize=(6,5))\n",
    "    L1 = np.linspace(0.01, 20, 21)\n",
    "    L2 = np.linspace(0.1, 20, 21)\n",
    "    l1, l2 = np.meshgrid(L1, L2)\n",
    "    z = isokvant(A1, A2, sigma, y, l1, l2)\n",
    "    ax.contour(l1, l2, z)\n",
    "\n",
    "    plt.show()\n",
    "\n",
    "iso_plot(A1, A2, sigma, y)\n",
    "iso_plot(A1, A2, sigma2, y)\n"
   ]
  },
  {
   "attachments": {},
   "cell_type": "markdown",
   "id": "a704cf90",
   "metadata": {},
   "source": [
    "### Opgave 6.5)\n",
    "- Beskriv hvad funktionen i det følgende gør\n",
    "\n",
    "*Bemærk: Opgaven forsætter under cellen*"
   ]
  },
  {
   "attachments": {},
   "cell_type": "markdown",
   "id": "b81ff576",
   "metadata": {},
   "source": [
    "### Svar: \n",
    "\n",
    "Funktionen udregner tre residualer på grundlag af en række faste parametre som teknologi, løn og substitutionselasticitet i modellen.\n",
    "\n",
    "De to første residualer er forskellen mellem virksomhedens optimale efterspørgsel efter arbejdskraft og forbrugernes optimale arbejdstid. Residual 1 er altså forskellen mellem virksomhedens efterspørgsel efter forbruger 1's arbejde og forbruger 1's ønskede arbejdstid.\n",
    "\n",
    "De tredje residual er forskellen mellem prisen på godet og de minimerede enhedsomkostninger.\n",
    "\n",
    "Til sammen afgør funktionen altså i hvor høj grad teknologi og elasticitet mellem arbejdskraft og teknologi, som er til rådighed, samt lønniveauet, får økonomien til at afvige fra forbrugerens optimale forbrug og virksomhedens optimale produktion.  \n",
    "\n",
    "Funktionen returnerer endeligt en kvadreret sum af residualerne. Da residualerne repræsenterer afvigelser fra det optimale, sikrer denne udregning at både positive og negative afvigelser tælles med."
   ]
  },
  {
   "cell_type": "code",
   "execution_count": 62,
   "id": "92b327e0",
   "metadata": {},
   "outputs": [],
   "source": [
    "def residualer_markedsclearing(params, p, A_1, A_2, eta, sigma):\n",
    "# def residualer_markedsclearing(y, w_1, w_2, p, A_1, A_2, eta, sigma):\n",
    "    y, w_1, w_2 = params\n",
    "\n",
    "    '''\n",
    "    Parametre \n",
    "    ---------\n",
    "    p  : skalar: pris på forbrugsgodet\n",
    "    w1 : løn til agent af type 1\n",
    "    w2 : løn til agent af type 2\n",
    "    y  : produktionen i økonomien\n",
    "    A1 : Teknologi for type 1\n",
    "    A2 : Teknologi for type 2\n",
    "    eta: parameter for nytten\n",
    "    sigma: parameter fra produktionsfunktionen\n",
    "    \n",
    "    Returnerer \n",
    "    ---------\n",
    "    res_tot\n",
    "    \n",
    "    \n",
    "    '''\n",
    "    cost, L_1, L_2 = løsning_virksomheden(A_1, A_2,w_1,w_2,y,sigma)\n",
    "    \n",
    "    c_1 , f_1 = løsning_forbrugeren(p, w_1, eta)\n",
    "    c_2 , f_2 = løsning_forbrugeren(p, w_2, eta)\n",
    "    \n",
    "    residual1 = L_1 - (1-f_1)\n",
    "    residual2 = L_2 - (1-f_2)\n",
    "    residual3 = p-cost\n",
    "    \n",
    "    res_tot = residual1**2+residual2**2+residual3**2\n",
    "    \n",
    "    return res_tot"
   ]
  },
  {
   "attachments": {},
   "cell_type": "markdown",
   "id": "fe811206",
   "metadata": {},
   "source": [
    "### Opgave 6.6)\n",
    "- Sæt prisen på varen som numeraire, altså $p=1$. Skriv en funktion der finder den kombination af $(y,w_1,w_2)$ der minimerer residualer_markedsclearing for given $A_1$, $A_2$ $\\sigma$ og $\\eta$. Du kan enten goere det ved en gridsearch eller ved \"minimize\". Husk da  \"from scipy.optimize import minimize\". Husk at gridsearch er muligt men langsomt"
   ]
  },
  {
   "cell_type": "code",
   "execution_count": 63,
   "id": "0aade8ca",
   "metadata": {},
   "outputs": [],
   "source": [
    "from scipy.optimize import minimize \n",
    "\n",
    "def minimum_residual(A1, A2, eta, sigma):\n",
    "    # Numeraire \n",
    "    p = 1\n",
    "    # Gæt for  variablene y, w1, w2\n",
    "    guess = [1, 1, 1]\n",
    "    constants = [p, A1, A2, sigma, eta]\n",
    "\n",
    "    minimum = minimize(residualer_markedsclearing, guess, args=(*constants,))\n",
    "\n",
    "    return minimum \n",
    "\n",
    "# Eksempel med A1 = 1, A2 = 1, eta = 2 og sigma = 0.3.\n",
    "# minimum_residual(1, 1, 2, 0.3)"
   ]
  }
 ],
 "metadata": {
  "kernelspec": {
   "display_name": "Python 3 (ipykernel)",
   "language": "python",
   "name": "python3"
  },
  "language_info": {
   "codemirror_mode": {
    "name": "ipython",
    "version": 3
   },
   "file_extension": ".py",
   "mimetype": "text/x-python",
   "name": "python",
   "nbconvert_exporter": "python",
   "pygments_lexer": "ipython3",
   "version": "3.11.1"
  }
 },
 "nbformat": 4,
 "nbformat_minor": 5
}
